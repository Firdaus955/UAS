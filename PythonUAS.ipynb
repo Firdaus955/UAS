{
 "cells": [
  {
   "cell_type": "code",
   "execution_count": null,
   "metadata": {},
   "outputs": [],
   "source": [
    "detik=int(input(\"ketik nilai detik= \"))\n",
    "D=detik\n",
    "H=D//86400\n",
    "D=D%86400\n",
    "J=D//3600\n",
    "D=D&3600\n",
    "M=D//60\n",
    "D=D%60\n",
    "print(detik,\" detik= \",H,\" hari \",J,\" jam \",M,\" menit \",D,\" detik \")"
   ]
  },
  {
   "cell_type": "code",
   "execution_count": 1,
   "metadata": {},
   "outputs": [
    {
     "name": "stdout",
     "output_type": "stream",
     "text": [
      "Banyaknya Jumlah suku= 5\n",
      "1  adalah bilangan ganjil\n",
      "2  adalah bilangan genap\n",
      "5  adalah bilangan genap\n",
      "3  adalah bilangan ganjil\n",
      "4  adalah bilangan genap\n",
      "5  adalah bilangan genap\n"
     ]
    }
   ],
   "source": [
    "N=int(input(\"Banyaknya Jumlah suku= \"))\n",
    "for i in range(1,N,2):\n",
    "    print(i,\" adalah bilangan ganjil\")\n",
    "    print(i+1,\" adalah bilangan genap\")\n",
    "    \n",
    "    if N%2 !=0:\n",
    "        print(N,\" adalah bilangan genap\")"
   ]
  },
  {
   "cell_type": "code",
   "execution_count": 2,
   "metadata": {},
   "outputs": [
    {
     "name": "stdout",
     "output_type": "stream",
     "text": [
      "Celsius =60\n",
      "Reamur+ 48.0\n",
      "Fahrenhit 140.0\n",
      "Kelvin 333.0\n"
     ]
    }
   ],
   "source": [
    "def reamur(x):\n",
    "    print(\"Reamur+\",4/5*x)\n",
    "def fahrenhit(x):\n",
    "    print(\"Fahrenhit\",9/5*x+32)\n",
    "def kelvin(x):\n",
    "    print(\"Kelvin\",273+x)\n",
    "c=float(input(\"Celsius =\"))\n",
    "reamur(c)\n",
    "fahrenhit(c)\n",
    "kelvin(c)"
   ]
  },
  {
   "cell_type": "code",
   "execution_count": 5,
   "metadata": {},
   "outputs": [
    {
     "name": "stdout",
     "output_type": "stream",
     "text": [
      "Bilangan Pertama: 5\n",
      "Bilangan Kedua: 62\n",
      "Bilangan Ketiga: 41\n",
      "Bilangan Keempat: 25\n",
      "Bilangan Kelima: 5\n",
      "Bilangan terkecil adalah 5\n",
      "Bilangan terbesar adalah 62\n"
     ]
    }
   ],
   "source": [
    "B1=int(input(\"Bilangan Pertama: \"))\n",
    "B2=int(input(\"Bilangan Kedua: \"))\n",
    "B3=int(input(\"Bilangan Ketiga: \"))\n",
    "B4=int(input(\"Bilangan Keempat: \"))\n",
    "B5=int(input(\"Bilangan Kelima: \"))\n",
    "print(\"Bilangan terkecil adalah \",end=\"\")\n",
    "B=B1\n",
    "if B>B2:B=B2\n",
    "if B>B3:B=B3\n",
    "if B>B4:B=B4\n",
    "if B>B5:B=B5\n",
    "print(B)\n",
    "\n",
    "print(\"Bilangan terbesar adalah \",end=\"\")\n",
    "B=B1\n",
    "if B<B2:B=B2\n",
    "if B<B3:B=B3\n",
    "if B<B4:B=B4\n",
    "if B<B5:B=B5\n",
    "print(B)\n"
   ]
  },
  {
   "cell_type": "code",
   "execution_count": null,
   "metadata": {},
   "outputs": [],
   "source": []
  }
 ],
 "metadata": {
  "kernelspec": {
   "display_name": "Python 3",
   "language": "python",
   "name": "python3"
  },
  "language_info": {
   "codemirror_mode": {
    "name": "ipython",
    "version": 3
   },
   "file_extension": ".py",
   "mimetype": "text/x-python",
   "name": "python",
   "nbconvert_exporter": "python",
   "pygments_lexer": "ipython3",
   "version": "3.7.3"
  }
 },
 "nbformat": 4,
 "nbformat_minor": 2
}
